{
 "cells": [
  {
   "cell_type": "code",
   "execution_count": null,
   "id": "495d958e",
   "metadata": {},
   "outputs": [],
   "source": [
    "# 18-09-2023 Tipe Data (Number)\n",
    "# String\n",
    "# Integer\n",
    "# Float\n",
    "# Boolean"
   ]
  },
  {
   "cell_type": "code",
   "execution_count": 6,
   "id": "585bc1db",
   "metadata": {},
   "outputs": [],
   "source": [
    "a = 10"
   ]
  },
  {
   "cell_type": "code",
   "execution_count": 3,
   "id": "13382bc2",
   "metadata": {},
   "outputs": [
    {
     "data": {
      "text/plain": [
       "int"
      ]
     },
     "execution_count": 3,
     "metadata": {},
     "output_type": "execute_result"
    }
   ],
   "source": [
    "type(a)"
   ]
  },
  {
   "cell_type": "code",
   "execution_count": 4,
   "id": "6e27d8b1",
   "metadata": {},
   "outputs": [],
   "source": [
    "b = 1.7"
   ]
  },
  {
   "cell_type": "code",
   "execution_count": 5,
   "id": "c256fcac",
   "metadata": {},
   "outputs": [
    {
     "data": {
      "text/plain": [
       "float"
      ]
     },
     "execution_count": 5,
     "metadata": {},
     "output_type": "execute_result"
    }
   ],
   "source": [
    "type(b)"
   ]
  },
  {
   "cell_type": "code",
   "execution_count": null,
   "id": "38298494",
   "metadata": {},
   "outputs": [],
   "source": [
    "a = 1"
   ]
  },
  {
   "cell_type": "code",
   "execution_count": 8,
   "id": "739d28e1",
   "metadata": {},
   "outputs": [
    {
     "data": {
      "text/plain": [
       "int"
      ]
     },
     "execution_count": 8,
     "metadata": {},
     "output_type": "execute_result"
    }
   ],
   "source": [
    "type(a)"
   ]
  },
  {
   "cell_type": "code",
   "execution_count": 2,
   "id": "00e63a9a",
   "metadata": {},
   "outputs": [
    {
     "name": "stdout",
     "output_type": "stream",
     "text": [
      "How old is Fajar = 20\n"
     ]
    }
   ],
   "source": [
    "age = 20\n",
    "print(\"How old is Fajar =\", age)\n"
   ]
  },
  {
   "cell_type": "code",
   "execution_count": 9,
   "id": "ab8000ee",
   "metadata": {},
   "outputs": [],
   "source": [
    "b = 1.0"
   ]
  },
  {
   "cell_type": "code",
   "execution_count": 10,
   "id": "188da3ce",
   "metadata": {},
   "outputs": [
    {
     "data": {
      "text/plain": [
       "float"
      ]
     },
     "execution_count": 10,
     "metadata": {},
     "output_type": "execute_result"
    }
   ],
   "source": [
    "type(b)"
   ]
  },
  {
   "cell_type": "code",
   "execution_count": 13,
   "id": "166a311c",
   "metadata": {},
   "outputs": [],
   "source": [
    "data = 4 # task 1"
   ]
  },
  {
   "cell_type": "code",
   "execution_count": 33,
   "id": "bfc1d65b",
   "metadata": {},
   "outputs": [
    {
     "data": {
      "text/plain": [
       "int"
      ]
     },
     "execution_count": 33,
     "metadata": {},
     "output_type": "execute_result"
    }
   ],
   "source": [
    "type(a)"
   ]
  },
  {
   "cell_type": "code",
   "execution_count": 15,
   "id": "d87f639f",
   "metadata": {},
   "outputs": [],
   "source": [
    "b = 3.1 # task 1"
   ]
  },
  {
   "cell_type": "code",
   "execution_count": 37,
   "id": "c03b495a",
   "metadata": {},
   "outputs": [
    {
     "data": {
      "text/plain": [
       "float"
      ]
     },
     "execution_count": 37,
     "metadata": {},
     "output_type": "execute_result"
    }
   ],
   "source": [
    "type(b)"
   ]
  },
  {
   "cell_type": "code",
   "execution_count": 4,
   "id": "7833debe",
   "metadata": {},
   "outputs": [
    {
     "name": "stdout",
     "output_type": "stream",
     "text": [
      "Nilai: 7.5\n"
     ]
    }
   ],
   "source": [
    "nilai = 7.5\n",
    "print(\"Nilai:\", nilai)\n"
   ]
  },
  {
   "cell_type": "code",
   "execution_count": 17,
   "id": "3803dd89",
   "metadata": {},
   "outputs": [],
   "source": [
    "data_int = 42"
   ]
  },
  {
   "cell_type": "code",
   "execution_count": 18,
   "id": "990c92d5",
   "metadata": {},
   "outputs": [
    {
     "name": "stdout",
     "output_type": "stream",
     "text": [
      "Nilai integer: 42\n"
     ]
    }
   ],
   "source": [
    "print(\"Nilai integer:\", data_int)"
   ]
  },
  {
   "cell_type": "code",
   "execution_count": 22,
   "id": "55d40457",
   "metadata": {},
   "outputs": [],
   "source": [
    "bilangan_imajiner = 3 + 4j"
   ]
  },
  {
   "cell_type": "code",
   "execution_count": 24,
   "id": "9d0fc481",
   "metadata": {},
   "outputs": [
    {
     "name": "stdout",
     "output_type": "stream",
     "text": [
      "Bilangan Imajiner =  (3+4j)\n"
     ]
    }
   ],
   "source": [
    "print(\"Bilangan Imajiner = \", bilangan_imajiner)"
   ]
  },
  {
   "cell_type": "code",
   "execution_count": 25,
   "id": "990cc50e",
   "metadata": {},
   "outputs": [],
   "source": [
    "c = 1+2j #Bilangan Kompleks"
   ]
  },
  {
   "cell_type": "code",
   "execution_count": 26,
   "id": "70b9af59",
   "metadata": {},
   "outputs": [
    {
     "data": {
      "text/plain": [
       "complex"
      ]
     },
     "execution_count": 26,
     "metadata": {},
     "output_type": "execute_result"
    }
   ],
   "source": [
    "type(c)"
   ]
  },
  {
   "cell_type": "code",
   "execution_count": null,
   "id": "f7007263",
   "metadata": {},
   "outputs": [],
   "source": [
    "c = 2+4j # task 2"
   ]
  },
  {
   "cell_type": "code",
   "execution_count": 31,
   "id": "72039f47",
   "metadata": {},
   "outputs": [
    {
     "data": {
      "text/plain": [
       "complex"
      ]
     },
     "execution_count": 31,
     "metadata": {},
     "output_type": "execute_result"
    }
   ],
   "source": [
    "type(c)"
   ]
  },
  {
   "cell_type": "code",
   "execution_count": 42,
   "id": "c7a276b6",
   "metadata": {},
   "outputs": [],
   "source": [
    "a = \"hello word\""
   ]
  },
  {
   "cell_type": "code",
   "execution_count": 43,
   "id": "2ccd7c2f",
   "metadata": {},
   "outputs": [
    {
     "data": {
      "text/plain": [
       "str"
      ]
     },
     "execution_count": 43,
     "metadata": {},
     "output_type": "execute_result"
    }
   ],
   "source": [
    "type(a)"
   ]
  },
  {
   "cell_type": "code",
   "execution_count": null,
   "id": "9159be8e",
   "metadata": {},
   "outputs": [],
   "source": [
    "a = \"hallo word\""
   ]
  },
  {
   "cell_type": "code",
   "execution_count": 44,
   "id": "063791ee",
   "metadata": {},
   "outputs": [
    {
     "name": "stdout",
     "output_type": "stream",
     "text": [
      "hello word\n"
     ]
    }
   ],
   "source": [
    "print(a)"
   ]
  },
  {
   "cell_type": "code",
   "execution_count": 48,
   "id": "d34f7c8d",
   "metadata": {},
   "outputs": [],
   "source": [
    "a =\"\"\" Bootcamp Data Science.\n",
    "Kamous Merdeka X MyEduSolve.\n",
    "Kelas D.\"\"\""
   ]
  },
  {
   "cell_type": "code",
   "execution_count": 50,
   "id": "4dd39ee1",
   "metadata": {},
   "outputs": [
    {
     "name": "stdout",
     "output_type": "stream",
     "text": [
      " Bootcamp Data Science.\n",
      "Kamous Merdeka X MyEduSolve.\n",
      "Kelas D.\n"
     ]
    }
   ],
   "source": [
    "print(a)"
   ]
  },
  {
   "cell_type": "code",
   "execution_count": 51,
   "id": "b5e5f4e3",
   "metadata": {},
   "outputs": [],
   "source": [
    "b = \"Bootcamp Data Science.\\nKampus Merdeka X MyEduSolve, \\nKelas B.\""
   ]
  },
  {
   "cell_type": "code",
   "execution_count": 52,
   "id": "42df6888",
   "metadata": {},
   "outputs": [
    {
     "name": "stdout",
     "output_type": "stream",
     "text": [
      "Bootcamp Data Science.\n",
      "Kampus Merdeka X MyEduSolve, \n",
      "Kelas B.\n"
     ]
    }
   ],
   "source": [
    "print(b)"
   ]
  },
  {
   "cell_type": "code",
   "execution_count": 53,
   "id": "fd0f7f5c",
   "metadata": {},
   "outputs": [],
   "source": [
    "a = \"Ini adalah sebuah string.\""
   ]
  },
  {
   "cell_type": "code",
   "execution_count": 54,
   "id": "ab8ccf28",
   "metadata": {},
   "outputs": [
    {
     "name": "stdout",
     "output_type": "stream",
     "text": [
      "Ini adalah sebuah string.\n"
     ]
    }
   ],
   "source": [
    "print(a)"
   ]
  },
  {
   "cell_type": "code",
   "execution_count": null,
   "id": "2cdd432b",
   "metadata": {},
   "outputs": [],
   "source": []
  },
  {
   "cell_type": "code",
   "execution_count": 1,
   "id": "85e1f1ec",
   "metadata": {},
   "outputs": [],
   "source": [
    "# Membuat string dengan triple petik\n",
    "data = \"\"\"\n",
    "Kami adalah kelompok 2\n",
    "\"\"\"\n"
   ]
  },
  {
   "cell_type": "code",
   "execution_count": 2,
   "id": "e9540e74",
   "metadata": {},
   "outputs": [
    {
     "name": "stdout",
     "output_type": "stream",
     "text": [
      "\n",
      "Kami adalah kelompok 2\n",
      "\n"
     ]
    }
   ],
   "source": [
    "print(data)"
   ]
  },
  {
   "cell_type": "code",
   "execution_count": 1,
   "id": "73eda47d",
   "metadata": {},
   "outputs": [
    {
     "name": "stdout",
     "output_type": "stream",
     "text": [
      "Hello,Daniel\n"
     ]
    }
   ],
   "source": [
    "name = \"Daniel\"\n",
    "message = \"Hello,\" + name \n",
    "print (message)\n"
   ]
  },
  {
   "cell_type": "code",
   "execution_count": 3,
   "id": "966b7dad",
   "metadata": {},
   "outputs": [],
   "source": [
    "\n",
    "data_1 = \"kami adalah\\nkelompok 2\"\n"
   ]
  },
  {
   "cell_type": "code",
   "execution_count": 4,
   "id": "325f2726",
   "metadata": {},
   "outputs": [
    {
     "name": "stdout",
     "output_type": "stream",
     "text": [
      "kami adalah\n",
      "kelompok 2\n"
     ]
    }
   ],
   "source": [
    "print(data_1)\n"
   ]
  },
  {
   "cell_type": "code",
   "execution_count": 61,
   "id": "74f77347",
   "metadata": {},
   "outputs": [
    {
     "data": {
      "text/plain": [
       "False"
      ]
     },
     "execution_count": 61,
     "metadata": {},
     "output_type": "execute_result"
    }
   ],
   "source": [
    "2 > 5"
   ]
  },
  {
   "cell_type": "code",
   "execution_count": 62,
   "id": "9f6d8488",
   "metadata": {},
   "outputs": [
    {
     "data": {
      "text/plain": [
       "False"
      ]
     },
     "execution_count": 62,
     "metadata": {},
     "output_type": "execute_result"
    }
   ],
   "source": [
    "2 ==5"
   ]
  },
  {
   "cell_type": "code",
   "execution_count": 63,
   "id": "5a1da507",
   "metadata": {},
   "outputs": [
    {
     "data": {
      "text/plain": [
       "True"
      ]
     },
     "execution_count": 63,
     "metadata": {},
     "output_type": "execute_result"
    }
   ],
   "source": [
    "2 <= 2"
   ]
  },
  {
   "cell_type": "code",
   "execution_count": 66,
   "id": "c82e9c76",
   "metadata": {},
   "outputs": [
    {
     "data": {
      "text/plain": [
       "True"
      ]
     },
     "execution_count": 66,
     "metadata": {},
     "output_type": "execute_result"
    }
   ],
   "source": [
    "2 != 3"
   ]
  },
  {
   "cell_type": "code",
   "execution_count": 67,
   "id": "299e94fc",
   "metadata": {},
   "outputs": [
    {
     "name": "stdout",
     "output_type": "stream",
     "text": [
      "4 > 3 = True\n"
     ]
    }
   ],
   "source": [
    "a = 4\n",
    "b = 2\n",
    "hasil = a > 3\n",
    "print(a,'>',3,'=', hasil)\n"
   ]
  },
  {
   "cell_type": "code",
   "execution_count": 5,
   "id": "457869d2",
   "metadata": {},
   "outputs": [
    {
     "name": "stdout",
     "output_type": "stream",
     "text": [
      "Apakah benar? True\n",
      "Apakah salah? False\n"
     ]
    }
   ],
   "source": [
    "A = True\n",
    "B = False\n",
    "print(\"Apakah benar?\", A)\n",
    "print(\"Apakah salah?\", B)"
   ]
  },
  {
   "cell_type": "code",
   "execution_count": null,
   "id": "907ba803",
   "metadata": {},
   "outputs": [],
   "source": []
  }
 ],
 "metadata": {
  "kernelspec": {
   "display_name": "Python 3 (ipykernel)",
   "language": "python",
   "name": "python3"
  },
  "language_info": {
   "codemirror_mode": {
    "name": "ipython",
    "version": 3
   },
   "file_extension": ".py",
   "mimetype": "text/x-python",
   "name": "python",
   "nbconvert_exporter": "python",
   "pygments_lexer": "ipython3",
   "version": "3.11.4"
  }
 },
 "nbformat": 4,
 "nbformat_minor": 5
}
