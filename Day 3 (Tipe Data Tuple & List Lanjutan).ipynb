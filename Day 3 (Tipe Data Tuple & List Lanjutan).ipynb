{
 "cells": [
  {
   "cell_type": "code",
   "execution_count": 1,
   "id": "1448f589",
   "metadata": {},
   "outputs": [],
   "source": [
    "# 20-09-2023\n",
    "# Tipe Data List dan Tuple"
   ]
  },
  {
   "cell_type": "code",
   "execution_count": null,
   "id": "6559438d",
   "metadata": {},
   "outputs": [],
   "source": [
    "# Tuple Mirip tipe data list namun hanya pake tanda ()"
   ]
  },
  {
   "cell_type": "code",
   "execution_count": 2,
   "id": "bf4a69e1",
   "metadata": {},
   "outputs": [],
   "source": [
    "b = [6,7,8,9,10,11,12,13,14,15] # Lanjutan materi len"
   ]
  },
  {
   "cell_type": "code",
   "execution_count": 3,
   "id": "4fe7809e",
   "metadata": {},
   "outputs": [
    {
     "data": {
      "text/plain": [
       "10"
      ]
     },
     "execution_count": 3,
     "metadata": {},
     "output_type": "execute_result"
    }
   ],
   "source": [
    "len(b)"
   ]
  },
  {
   "cell_type": "code",
   "execution_count": 4,
   "id": "46ece031",
   "metadata": {},
   "outputs": [
    {
     "data": {
      "text/plain": [
       "15"
      ]
     },
     "execution_count": 4,
     "metadata": {},
     "output_type": "execute_result"
    }
   ],
   "source": [
    "b[9]"
   ]
  },
  {
   "cell_type": "code",
   "execution_count": 5,
   "id": "39fc6ec3",
   "metadata": {},
   "outputs": [],
   "source": [
    "b[0] = 1"
   ]
  },
  {
   "cell_type": "code",
   "execution_count": 6,
   "id": "2236b235",
   "metadata": {},
   "outputs": [
    {
     "name": "stdout",
     "output_type": "stream",
     "text": [
      "[1, 7, 8, 9, 10, 11, 12, 13, 14, 15]\n"
     ]
    }
   ],
   "source": [
    "print(b)"
   ]
  },
  {
   "cell_type": "code",
   "execution_count": 8,
   "id": "7064af64",
   "metadata": {},
   "outputs": [],
   "source": [
    "b.append(16)"
   ]
  },
  {
   "cell_type": "code",
   "execution_count": 54,
   "id": "fcf0e4d8",
   "metadata": {},
   "outputs": [
    {
     "name": "stdout",
     "output_type": "stream",
     "text": [
      "[10, 12, 13, 14, 15, 16, 16, 16, 8, 22, 22, 22]\n"
     ]
    }
   ],
   "source": [
    "print(b)"
   ]
  },
  {
   "cell_type": "code",
   "execution_count": 55,
   "id": "d2c42701",
   "metadata": {},
   "outputs": [],
   "source": [
    "del b[0]"
   ]
  },
  {
   "cell_type": "code",
   "execution_count": 57,
   "id": "a524f02f",
   "metadata": {},
   "outputs": [
    {
     "data": {
      "text/plain": [
       "11"
      ]
     },
     "execution_count": 57,
     "metadata": {},
     "output_type": "execute_result"
    }
   ],
   "source": [
    "len(b)"
   ]
  },
  {
   "cell_type": "code",
   "execution_count": 61,
   "id": "cc5f27cc",
   "metadata": {},
   "outputs": [],
   "source": [
    "arr = [10, 20, 30, 40, 50] # Lanjutan Terbaru"
   ]
  },
  {
   "cell_type": "code",
   "execution_count": 62,
   "id": "b91d2f22",
   "metadata": {},
   "outputs": [
    {
     "name": "stdout",
     "output_type": "stream",
     "text": [
      "10\n"
     ]
    }
   ],
   "source": [
    "print(arr[0])"
   ]
  },
  {
   "cell_type": "code",
   "execution_count": 63,
   "id": "973b8ea4",
   "metadata": {},
   "outputs": [],
   "source": [
    "arr.append(10)"
   ]
  },
  {
   "cell_type": "code",
   "execution_count": 64,
   "id": "464f474d",
   "metadata": {},
   "outputs": [
    {
     "name": "stdout",
     "output_type": "stream",
     "text": [
      "[10, 20, 30, 40, 50, 10]\n"
     ]
    }
   ],
   "source": [
    "print(arr)"
   ]
  },
  {
   "cell_type": "code",
   "execution_count": 66,
   "id": "f7ca4dd7",
   "metadata": {},
   "outputs": [],
   "source": [
    "arr.extend([10,11])"
   ]
  },
  {
   "cell_type": "code",
   "execution_count": 67,
   "id": "14304f7d",
   "metadata": {},
   "outputs": [
    {
     "name": "stdout",
     "output_type": "stream",
     "text": [
      "[10, 20, 30, 40, 50, 10, 10, 11, 10, 11]\n"
     ]
    }
   ],
   "source": [
    "print(arr)"
   ]
  },
  {
   "cell_type": "code",
   "execution_count": 68,
   "id": "a5de7b18",
   "metadata": {},
   "outputs": [],
   "source": [
    "arr.insert(3,7)"
   ]
  },
  {
   "cell_type": "code",
   "execution_count": 69,
   "id": "1214a12f",
   "metadata": {},
   "outputs": [
    {
     "name": "stdout",
     "output_type": "stream",
     "text": [
      "[10, 20, 30, 7, 40, 50, 10, 10, 11, 10, 11]\n"
     ]
    }
   ],
   "source": [
    "print(arr)"
   ]
  },
  {
   "cell_type": "code",
   "execution_count": 80,
   "id": "745256ab",
   "metadata": {},
   "outputs": [],
   "source": [
    "e = [1,2,3,4]"
   ]
  },
  {
   "cell_type": "code",
   "execution_count": 81,
   "id": "4e11f5cc",
   "metadata": {},
   "outputs": [],
   "source": [
    "e.remove(2) # hapus n0 2"
   ]
  },
  {
   "cell_type": "code",
   "execution_count": 82,
   "id": "f151f8a0",
   "metadata": {},
   "outputs": [
    {
     "name": "stdout",
     "output_type": "stream",
     "text": [
      "[1, 3, 4]\n"
     ]
    }
   ],
   "source": [
    "print(e)"
   ]
  },
  {
   "cell_type": "code",
   "execution_count": 83,
   "id": "d641bcb9",
   "metadata": {},
   "outputs": [
    {
     "data": {
      "text/plain": [
       "4"
      ]
     },
     "execution_count": 83,
     "metadata": {},
     "output_type": "execute_result"
    }
   ],
   "source": [
    "e.pop() #untuk menghapus angka di len terakhir"
   ]
  },
  {
   "cell_type": "code",
   "execution_count": 84,
   "id": "c75fc473",
   "metadata": {},
   "outputs": [
    {
     "name": "stdout",
     "output_type": "stream",
     "text": [
      "[1, 3]\n"
     ]
    }
   ],
   "source": [
    "print(e)"
   ]
  },
  {
   "cell_type": "code",
   "execution_count": 53,
   "id": "1b5de39d",
   "metadata": {},
   "outputs": [],
   "source": [
    "c = [7,8,9,10,11,12,13,14,15,16,17,18,19,20,21] # Task 1"
   ]
  },
  {
   "cell_type": "code",
   "execution_count": 43,
   "id": "182e6d5f",
   "metadata": {},
   "outputs": [
    {
     "name": "stdout",
     "output_type": "stream",
     "text": [
      "[4, 8, 9, 10, 11, 12, 13, 14, 15, 16, 17, 18, 19, 20, 21]\n"
     ]
    }
   ],
   "source": [
    "print(c)"
   ]
  },
  {
   "cell_type": "code",
   "execution_count": 44,
   "id": "d84dfa88",
   "metadata": {},
   "outputs": [
    {
     "data": {
      "text/plain": [
       "15"
      ]
     },
     "execution_count": 44,
     "metadata": {},
     "output_type": "execute_result"
    }
   ],
   "source": [
    "len(c)"
   ]
  },
  {
   "cell_type": "code",
   "execution_count": 45,
   "id": "cd10abae",
   "metadata": {},
   "outputs": [],
   "source": [
    "c [0] = 4 #untuk ganti angka"
   ]
  },
  {
   "cell_type": "code",
   "execution_count": 46,
   "id": "b3a04ab7",
   "metadata": {},
   "outputs": [
    {
     "name": "stdout",
     "output_type": "stream",
     "text": [
      "[4, 8, 9, 10, 11, 12, 13, 14, 15, 16, 17, 18, 19, 20, 21]\n"
     ]
    }
   ],
   "source": [
    "print(c)"
   ]
  },
  {
   "cell_type": "code",
   "execution_count": 47,
   "id": "d8ed9266",
   "metadata": {},
   "outputs": [],
   "source": [
    "c.append(23) #untuk update nambah angka"
   ]
  },
  {
   "cell_type": "code",
   "execution_count": 48,
   "id": "30c13038",
   "metadata": {},
   "outputs": [
    {
     "name": "stdout",
     "output_type": "stream",
     "text": [
      "[4, 8, 9, 10, 11, 12, 13, 14, 15, 16, 17, 18, 19, 20, 21, 23]\n"
     ]
    }
   ],
   "source": [
    "print(c)"
   ]
  },
  {
   "cell_type": "code",
   "execution_count": 49,
   "id": "7759bb7b",
   "metadata": {},
   "outputs": [
    {
     "data": {
      "text/plain": [
       "16"
      ]
     },
     "execution_count": 49,
     "metadata": {},
     "output_type": "execute_result"
    }
   ],
   "source": [
    "len(c)"
   ]
  },
  {
   "cell_type": "code",
   "execution_count": 50,
   "id": "ed666d49",
   "metadata": {},
   "outputs": [],
   "source": [
    "del c[9] # untuk hapus"
   ]
  },
  {
   "cell_type": "code",
   "execution_count": 51,
   "id": "addb5e37",
   "metadata": {},
   "outputs": [
    {
     "data": {
      "text/plain": [
       "15"
      ]
     },
     "execution_count": 51,
     "metadata": {},
     "output_type": "execute_result"
    }
   ],
   "source": [
    "len(c)"
   ]
  },
  {
   "cell_type": "code",
   "execution_count": 71,
   "id": "3fc31ce8",
   "metadata": {},
   "outputs": [],
   "source": [
    "d = [8, 9, 10, 11, 12, 13, 14, 15, 16, 17, 18, 19, 20, 21, 23] #TASK 2"
   ]
  },
  {
   "cell_type": "code",
   "execution_count": 72,
   "id": "9cec380b",
   "metadata": {},
   "outputs": [
    {
     "data": {
      "text/plain": [
       "15"
      ]
     },
     "execution_count": 72,
     "metadata": {},
     "output_type": "execute_result"
    }
   ],
   "source": [
    "len(d)"
   ]
  },
  {
   "cell_type": "code",
   "execution_count": 74,
   "id": "8984339e",
   "metadata": {},
   "outputs": [],
   "source": [
    "d.append(24) # untuk menambah 1 elemen angka"
   ]
  },
  {
   "cell_type": "code",
   "execution_count": 75,
   "id": "8bad5b5d",
   "metadata": {},
   "outputs": [
    {
     "name": "stdout",
     "output_type": "stream",
     "text": [
      "[8, 9, 10, 11, 12, 13, 14, 15, 16, 17, 18, 19, 20, 21, 23, 24]\n"
     ]
    }
   ],
   "source": [
    "print(d)"
   ]
  },
  {
   "cell_type": "code",
   "execution_count": 76,
   "id": "35c47796",
   "metadata": {},
   "outputs": [],
   "source": [
    "d.extend([10,11]) # digunakan untuk menambah semua elemen"
   ]
  },
  {
   "cell_type": "code",
   "execution_count": 77,
   "id": "a84af770",
   "metadata": {},
   "outputs": [
    {
     "name": "stdout",
     "output_type": "stream",
     "text": [
      "[8, 9, 10, 11, 12, 13, 14, 15, 16, 17, 18, 19, 20, 21, 23, 24, 10, 11]\n"
     ]
    }
   ],
   "source": [
    "print(d) #pindah ke belakang no 10 dan 11"
   ]
  },
  {
   "cell_type": "code",
   "execution_count": 78,
   "id": "9dcf7710",
   "metadata": {},
   "outputs": [],
   "source": [
    "d.insert(5,9) # untuk menyisipkan elemnet tertentu"
   ]
  },
  {
   "cell_type": "code",
   "execution_count": 85,
   "id": "7e693bcc",
   "metadata": {},
   "outputs": [
    {
     "name": "stdout",
     "output_type": "stream",
     "text": [
      "[8, 9, 10, 11, 12, 9, 13, 14, 15, 16, 17, 18, 19, 20, 21, 23, 24, 10, 11]\n"
     ]
    }
   ],
   "source": [
    "print(d) # mengubah len ke 5 jadi angka 9"
   ]
  },
  {
   "cell_type": "code",
   "execution_count": 86,
   "id": "1f58fc7e",
   "metadata": {},
   "outputs": [
    {
     "data": {
      "text/plain": [
       "1"
      ]
     },
     "execution_count": 86,
     "metadata": {},
     "output_type": "execute_result"
    }
   ],
   "source": [
    "d.index(9)"
   ]
  },
  {
   "cell_type": "code",
   "execution_count": 87,
   "id": "eb5f437f",
   "metadata": {},
   "outputs": [
    {
     "name": "stdout",
     "output_type": "stream",
     "text": [
      "[8, 9, 10, 11, 12, 9, 13, 14, 15, 16, 17, 18, 19, 20, 21, 23, 24, 10, 11]\n"
     ]
    }
   ],
   "source": [
    "print(d)"
   ]
  },
  {
   "cell_type": "code",
   "execution_count": 88,
   "id": "98704c0f",
   "metadata": {},
   "outputs": [],
   "source": [
    "f = [2,6,6,7,8,9] #List Baru"
   ]
  },
  {
   "cell_type": "code",
   "execution_count": 90,
   "id": "5b1452ce",
   "metadata": {},
   "outputs": [
    {
     "data": {
      "text/plain": [
       "9"
      ]
     },
     "execution_count": 90,
     "metadata": {},
     "output_type": "execute_result"
    }
   ],
   "source": [
    "f.pop() # Menghapus len terakhir yaitu angka 9"
   ]
  },
  {
   "cell_type": "code",
   "execution_count": 91,
   "id": "e2fe6738",
   "metadata": {},
   "outputs": [
    {
     "name": "stdout",
     "output_type": "stream",
     "text": [
      "[2, 6, 6, 7, 8]\n"
     ]
    }
   ],
   "source": [
    "print(f)"
   ]
  },
  {
   "cell_type": "code",
   "execution_count": 92,
   "id": "401f09f1",
   "metadata": {},
   "outputs": [
    {
     "data": {
      "text/plain": [
       "2"
      ]
     },
     "execution_count": 92,
     "metadata": {},
     "output_type": "execute_result"
    }
   ],
   "source": [
    "f.count(6) #untuk mengetahui brp banya duplikat"
   ]
  },
  {
   "cell_type": "code",
   "execution_count": 93,
   "id": "00df030e",
   "metadata": {},
   "outputs": [],
   "source": [
    "f.remove(6) # Menghapus angka yg di inginkan"
   ]
  },
  {
   "cell_type": "code",
   "execution_count": 94,
   "id": "95b2ae24",
   "metadata": {},
   "outputs": [
    {
     "name": "stdout",
     "output_type": "stream",
     "text": [
      "[2, 6, 7, 8]\n"
     ]
    }
   ],
   "source": [
    "print(f)"
   ]
  },
  {
   "cell_type": "code",
   "execution_count": 112,
   "id": "fadfd96f",
   "metadata": {},
   "outputs": [],
   "source": [
    "r = [1,2,3,4,5,6,7,8,9,10,11,12,13,14,15] # Task 3"
   ]
  },
  {
   "cell_type": "code",
   "execution_count": 113,
   "id": "e585da63",
   "metadata": {},
   "outputs": [
    {
     "data": {
      "text/plain": [
       "15"
      ]
     },
     "execution_count": 113,
     "metadata": {},
     "output_type": "execute_result"
    }
   ],
   "source": [
    "len(r)"
   ]
  },
  {
   "cell_type": "code",
   "execution_count": 114,
   "id": "fb7f8801",
   "metadata": {},
   "outputs": [],
   "source": [
    "r.remove(1)"
   ]
  },
  {
   "cell_type": "code",
   "execution_count": 115,
   "id": "e95bee1c",
   "metadata": {},
   "outputs": [
    {
     "name": "stdout",
     "output_type": "stream",
     "text": [
      "[2, 3, 4, 5, 6, 7, 8, 9, 10, 11, 12, 13, 14, 15]\n"
     ]
    }
   ],
   "source": [
    "print(r)"
   ]
  },
  {
   "cell_type": "code",
   "execution_count": 116,
   "id": "c94316dd",
   "metadata": {},
   "outputs": [
    {
     "data": {
      "text/plain": [
       "15"
      ]
     },
     "execution_count": 116,
     "metadata": {},
     "output_type": "execute_result"
    }
   ],
   "source": [
    "r.pop()"
   ]
  },
  {
   "cell_type": "code",
   "execution_count": 117,
   "id": "9081050a",
   "metadata": {},
   "outputs": [
    {
     "name": "stdout",
     "output_type": "stream",
     "text": [
      "[2, 3, 4, 5, 6, 7, 8, 9, 10, 11, 12, 13, 14]\n"
     ]
    }
   ],
   "source": [
    "print(r)"
   ]
  },
  {
   "cell_type": "code",
   "execution_count": 118,
   "id": "83791bc1",
   "metadata": {},
   "outputs": [
    {
     "data": {
      "text/plain": [
       "0"
      ]
     },
     "execution_count": 118,
     "metadata": {},
     "output_type": "execute_result"
    }
   ],
   "source": [
    "r.index(2)"
   ]
  },
  {
   "cell_type": "code",
   "execution_count": 119,
   "id": "491e2574",
   "metadata": {},
   "outputs": [
    {
     "name": "stdout",
     "output_type": "stream",
     "text": [
      "[2, 3, 4, 5, 6, 7, 8, 9, 10, 11, 12, 13, 14]\n"
     ]
    }
   ],
   "source": [
    "print(r)"
   ]
  },
  {
   "cell_type": "code",
   "execution_count": 111,
   "id": "fa8dc29f",
   "metadata": {},
   "outputs": [
    {
     "data": {
      "text/plain": [
       "1"
      ]
     },
     "execution_count": 111,
     "metadata": {},
     "output_type": "execute_result"
    }
   ],
   "source": [
    "f.count(2)"
   ]
  },
  {
   "cell_type": "code",
   "execution_count": 120,
   "id": "89a12d8c",
   "metadata": {},
   "outputs": [
    {
     "name": "stdout",
     "output_type": "stream",
     "text": [
      "[2, 3, 4, 5, 6, 7, 8, 9, 10, 11, 12, 13, 14]\n"
     ]
    }
   ],
   "source": [
    "print(r)"
   ]
  },
  {
   "cell_type": "code",
   "execution_count": 122,
   "id": "69db0957",
   "metadata": {},
   "outputs": [],
   "source": [
    "w = [2,5,1,3,4] #Lanjutan"
   ]
  },
  {
   "cell_type": "code",
   "execution_count": 123,
   "id": "90bcf239",
   "metadata": {},
   "outputs": [],
   "source": [
    "w.sort() # Mengembalikan urutan yang acak asc"
   ]
  },
  {
   "cell_type": "code",
   "execution_count": 124,
   "id": "7aecee6a",
   "metadata": {},
   "outputs": [
    {
     "name": "stdout",
     "output_type": "stream",
     "text": [
      "[1, 2, 3, 4, 5]\n"
     ]
    }
   ],
   "source": [
    "print(w)"
   ]
  },
  {
   "cell_type": "code",
   "execution_count": 125,
   "id": "c37945e7",
   "metadata": {},
   "outputs": [],
   "source": [
    "w.sort(reverse=True)# Mengurutkan yg tertinggi ke terkecil desc"
   ]
  },
  {
   "cell_type": "code",
   "execution_count": 126,
   "id": "149bb1cf",
   "metadata": {},
   "outputs": [
    {
     "name": "stdout",
     "output_type": "stream",
     "text": [
      "[5, 4, 3, 2, 1]\n"
     ]
    }
   ],
   "source": [
    "print(w)"
   ]
  },
  {
   "cell_type": "code",
   "execution_count": 127,
   "id": "9c2a41ff",
   "metadata": {},
   "outputs": [],
   "source": [
    "w.reverse() #Mengembalikan ke posisi awal"
   ]
  },
  {
   "cell_type": "code",
   "execution_count": 128,
   "id": "4ad41a0d",
   "metadata": {},
   "outputs": [
    {
     "name": "stdout",
     "output_type": "stream",
     "text": [
      "[1, 2, 3, 4, 5]\n"
     ]
    }
   ],
   "source": [
    "print(w)"
   ]
  },
  {
   "cell_type": "code",
   "execution_count": 132,
   "id": "038884a4",
   "metadata": {},
   "outputs": [],
   "source": [
    "z = [11,10,13,12,14,15,16,17,18,19,20,21,22,23,24] #Task 4"
   ]
  },
  {
   "cell_type": "code",
   "execution_count": 133,
   "id": "fb4cb968",
   "metadata": {},
   "outputs": [
    {
     "data": {
      "text/plain": [
       "15"
      ]
     },
     "execution_count": 133,
     "metadata": {},
     "output_type": "execute_result"
    }
   ],
   "source": [
    "len(z)"
   ]
  },
  {
   "cell_type": "code",
   "execution_count": 134,
   "id": "77417888",
   "metadata": {},
   "outputs": [],
   "source": [
    "z.sort()"
   ]
  },
  {
   "cell_type": "code",
   "execution_count": 135,
   "id": "6882ced7",
   "metadata": {},
   "outputs": [
    {
     "name": "stdout",
     "output_type": "stream",
     "text": [
      "[10, 11, 12, 13, 14, 15, 16, 17, 18, 19, 20, 21, 22, 23, 24]\n"
     ]
    }
   ],
   "source": [
    "print(z)"
   ]
  },
  {
   "cell_type": "code",
   "execution_count": 136,
   "id": "7c5f0cab",
   "metadata": {},
   "outputs": [],
   "source": [
    "z.sort(reverse=True) # Mengurutkan yg tertinggi ke terkecil"
   ]
  },
  {
   "cell_type": "code",
   "execution_count": 137,
   "id": "c047fa94",
   "metadata": {},
   "outputs": [
    {
     "name": "stdout",
     "output_type": "stream",
     "text": [
      "[24, 23, 22, 21, 20, 19, 18, 17, 16, 15, 14, 13, 12, 11, 10]\n"
     ]
    }
   ],
   "source": [
    "print(z)"
   ]
  },
  {
   "cell_type": "code",
   "execution_count": 138,
   "id": "503238c7",
   "metadata": {},
   "outputs": [],
   "source": [
    "z.reverse()"
   ]
  },
  {
   "cell_type": "code",
   "execution_count": 139,
   "id": "60867caa",
   "metadata": {},
   "outputs": [
    {
     "name": "stdout",
     "output_type": "stream",
     "text": [
      "[10, 11, 12, 13, 14, 15, 16, 17, 18, 19, 20, 21, 22, 23, 24]\n"
     ]
    }
   ],
   "source": [
    "print(z)"
   ]
  },
  {
   "cell_type": "code",
   "execution_count": 140,
   "id": "fb3a9d14",
   "metadata": {},
   "outputs": [],
   "source": [
    "# Slicing pada String"
   ]
  },
  {
   "cell_type": "code",
   "execution_count": 142,
   "id": "1f21e3a8",
   "metadata": {},
   "outputs": [],
   "source": [
    "d = \"Data Analyst\""
   ]
  },
  {
   "cell_type": "code",
   "execution_count": 143,
   "id": "c4f981a9",
   "metadata": {},
   "outputs": [
    {
     "name": "stdout",
     "output_type": "stream",
     "text": [
      "a\n"
     ]
    }
   ],
   "source": [
    "print(d[3]) # Mengambil karakter ke 4 dri string 0"
   ]
  },
  {
   "cell_type": "code",
   "execution_count": 144,
   "id": "12f1d5db",
   "metadata": {},
   "outputs": [
    {
     "name": "stdout",
     "output_type": "stream",
     "text": [
      " Analyst\n"
     ]
    }
   ],
   "source": [
    "print(d[4:13]) # Mengambil karakter ke 5 hingga ke 13 dri string 0"
   ]
  },
  {
   "cell_type": "code",
   "execution_count": 145,
   "id": "6ac44070",
   "metadata": {},
   "outputs": [
    {
     "ename": "TypeError",
     "evalue": "'str' object does not support item assignment",
     "output_type": "error",
     "traceback": [
      "\u001b[1;31m---------------------------------------------------------------------------\u001b[0m",
      "\u001b[1;31mTypeError\u001b[0m                                 Traceback (most recent call last)",
      "Cell \u001b[1;32mIn[145], line 1\u001b[0m\n\u001b[1;32m----> 1\u001b[0m \u001b[43md\u001b[49m\u001b[43m[\u001b[49m\u001b[38;5;241;43m3\u001b[39;49m\u001b[43m]\u001b[49m \u001b[38;5;241m=\u001b[39m \u001b[38;5;124m'\u001b[39m\u001b[38;5;124m0\u001b[39m\u001b[38;5;124m'\u001b[39m\n",
      "\u001b[1;31mTypeError\u001b[0m: 'str' object does not support item assignment"
     ]
    }
   ],
   "source": [
    "d[3] = '0' # Eror karena variabel bersipat string bukan list"
   ]
  },
  {
   "cell_type": "code",
   "execution_count": 146,
   "id": "4a3362f2",
   "metadata": {},
   "outputs": [
    {
     "name": "stdout",
     "output_type": "stream",
     "text": [
      "Data Analyst\n"
     ]
    }
   ],
   "source": [
    "print(d)"
   ]
  },
  {
   "cell_type": "code",
   "execution_count": 147,
   "id": "04f68558",
   "metadata": {},
   "outputs": [],
   "source": [
    "s = \"Welcome to shara\" #Task Ke 5"
   ]
  },
  {
   "cell_type": "code",
   "execution_count": 148,
   "id": "f045fe7a",
   "metadata": {},
   "outputs": [
    {
     "name": "stdout",
     "output_type": "stream",
     "text": [
      "c\n"
     ]
    }
   ],
   "source": [
    "print(s[3]) # Mengambil karakter ke 4 dri string 0"
   ]
  },
  {
   "cell_type": "code",
   "execution_count": 151,
   "id": "c88d7a9d",
   "metadata": {},
   "outputs": [
    {
     "name": "stdout",
     "output_type": "stream",
     "text": [
      "to shara\n"
     ]
    }
   ],
   "source": [
    "print(s[8:20]) # mengambil karakter ke 9 sampai 20 dri string 0"
   ]
  },
  {
   "cell_type": "code",
   "execution_count": 157,
   "id": "c6c63a15",
   "metadata": {},
   "outputs": [
    {
     "name": "stdout",
     "output_type": "stream",
     "text": [
      "before: ['apel', 'pisang', 'jeruk']\n"
     ]
    }
   ],
   "source": [
    "a = [\"apel\", \"pisang\", \"jeruk\"]\n",
    "print(\"before:\", a)"
   ]
  },
  {
   "cell_type": "code",
   "execution_count": 158,
   "id": "7d0b3135",
   "metadata": {},
   "outputs": [
    {
     "name": "stdout",
     "output_type": "stream",
     "text": [
      "after: ['apel', 'pisang', 'melon']\n"
     ]
    }
   ],
   "source": [
    "a[2] = \"melon\"\n",
    "print(\"after:\", a)"
   ]
  },
  {
   "cell_type": "code",
   "execution_count": 159,
   "id": "0496b280",
   "metadata": {},
   "outputs": [],
   "source": [
    "# Tipe Data Tuple"
   ]
  },
  {
   "cell_type": "code",
   "execution_count": 160,
   "id": "4310ab1c",
   "metadata": {},
   "outputs": [],
   "source": [
    "a = (2, \"buku\", 3.5)"
   ]
  },
  {
   "cell_type": "code",
   "execution_count": 161,
   "id": "381cda05",
   "metadata": {},
   "outputs": [
    {
     "name": "stdout",
     "output_type": "stream",
     "text": [
      "(2, 'buku', 3.5)\n"
     ]
    }
   ],
   "source": [
    "print(a)"
   ]
  },
  {
   "cell_type": "code",
   "execution_count": 162,
   "id": "fa7acb24",
   "metadata": {},
   "outputs": [
    {
     "name": "stdout",
     "output_type": "stream",
     "text": [
      "buku\n"
     ]
    }
   ],
   "source": [
    "print(a[1]) # Element awal yaitu buku , element 0 itu 2"
   ]
  },
  {
   "cell_type": "code",
   "execution_count": 163,
   "id": "93e0060e",
   "metadata": {},
   "outputs": [
    {
     "name": "stdout",
     "output_type": "stream",
     "text": [
      "(2, 'buku')\n"
     ]
    }
   ],
   "source": [
    "print(a[0:2])"
   ]
  },
  {
   "cell_type": "code",
   "execution_count": null,
   "id": "fc13f8c2",
   "metadata": {},
   "outputs": [],
   "source": []
  }
 ],
 "metadata": {
  "kernelspec": {
   "display_name": "Python 3 (ipykernel)",
   "language": "python",
   "name": "python3"
  },
  "language_info": {
   "codemirror_mode": {
    "name": "ipython",
    "version": 3
   },
   "file_extension": ".py",
   "mimetype": "text/x-python",
   "name": "python",
   "nbconvert_exporter": "python",
   "pygments_lexer": "ipython3",
   "version": "3.11.4"
  }
 },
 "nbformat": 4,
 "nbformat_minor": 5
}
