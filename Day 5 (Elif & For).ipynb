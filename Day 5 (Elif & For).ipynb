{
 "cells": [
  {
   "cell_type": "code",
   "execution_count": null,
   "id": "dbbdaa17",
   "metadata": {},
   "outputs": [],
   "source": [
    "# 22-09-2023\n",
    "# elif adalah bagian dari struktur percabangan yang digunakan untuk mengevaluasi beberapa kondisi secara berurutan."
   ]
  },
  {
   "cell_type": "code",
   "execution_count": null,
   "id": "2dc68980",
   "metadata": {},
   "outputs": [],
   "source": [
    "nilai =  int(input(\"Beberapa nilai anda; \"))\n",
    "if nilai >= 80:\n",
    "    print(\"Anda mendapatkan nilai A\")\n",
    "elif nilai >= 60:\n",
    "    print(\"Anda mendapatkan nilai B\")\n",
    "else:\n",
    "    print(\"Anda nilai C\")"
   ]
  },
  {
   "cell_type": "code",
   "execution_count": null,
   "id": "9261abf3",
   "metadata": {},
   "outputs": [],
   "source": [
    "usia = 30\n",
    "\n",
    "if usia < 16:\n",
    "    status = \"Anda masih di bawah umur\"\n",
    "elif usia >= 16 and usia < 60:\n",
    "    status = \"Anda dewasa\"\n",
    "else:\n",
    "    status = \"Anda sudah tua\"\n",
    "\n",
    "print(f\"Status: {status}\")\n"
   ]
  },
  {
   "cell_type": "code",
   "execution_count": 1,
   "id": "ae3ef8bc",
   "metadata": {},
   "outputs": [
    {
     "name": "stdout",
     "output_type": "stream",
     "text": [
      "Berapa nilai IMT Anda : 19\n",
      "Nilai IMT kamu adalah 19.0, kategori: Normal\n"
     ]
    }
   ],
   "source": [
    "# Task 1\n",
    "\n",
    "nilai_imt = float(input(\"Berapa nilai IMT Anda : \"))\n",
    "\n",
    "if nilai_imt < 17:\n",
    "    kategori_bb = \"Sangat kurus\"\n",
    "elif nilai_imt >= 17.0 and nilai_imt < 18.5:\n",
    "    kategori_bb = \"Kurus\"\n",
    "elif nilai_imt >= 18.5 and nilai_imt < 25.0:\n",
    "    kategori_bb = \"Normal\"\n",
    "elif nilai_imt >= 25.0 and nilai_imt < 27.0:\n",
    "    kategori_bb = \"Gemuk (overweight)\"\n",
    "else:\n",
    "    kategori_bb = \"Gemuk (obesitas)\"\n",
    "\n",
    "print(f\"Nilai IMT kamu adalah {nilai_imt}, kategori: {kategori_bb}\")"
   ]
  },
  {
   "cell_type": "code",
   "execution_count": 2,
   "id": "5e9af75e",
   "metadata": {},
   "outputs": [
    {
     "name": "stdout",
     "output_type": "stream",
     "text": [
      "huruf d\n",
      "huruf a\n",
      "huruf t\n",
      "huruf a\n"
     ]
    }
   ],
   "source": [
    "# for adalah salah satu cara yang sangat berguna untuk mengulangi aksi tertentu pada setiap elemen dalam koleksi data seperti list, tuple, set, atau string.\n",
    "\n",
    "for i in 'data':\n",
    "    print(\"huruf {}\".format(i))"
   ]
  },
  {
   "cell_type": "code",
   "execution_count": 5,
   "id": "0134fa3c",
   "metadata": {},
   "outputs": [
    {
     "name": "stdout",
     "output_type": "stream",
     "text": [
      "Warna Merah\n",
      "Warna Kuning\n",
      "Warna Hijau\n"
     ]
    }
   ],
   "source": [
    "color = [\"Merah\", \"Kuning\", \"Hijau\"]\n",
    "\n",
    "for warna in color:\n",
    "    print(\"Warna {}\".format(warna))\n"
   ]
  },
  {
   "cell_type": "code",
   "execution_count": 8,
   "id": "4f35e70b",
   "metadata": {},
   "outputs": [
    {
     "name": "stdout",
     "output_type": "stream",
     "text": [
      "Halo, Daniel Fitri Salsa Aulia Arum \n"
     ]
    }
   ],
   "source": [
    "# Task 2 List\n",
    "Kelompok_2 = [\"Daniel\", \"Fitri\", \"Salsa\", \"Aulia\", \"Arum\"]\n",
    "pesan = \"Halo, \"\n",
    "for nama in Kelompok_2:\n",
    "    pesan += nama + \" \"\n",
    "\n",
    "print(pesan)\n"
   ]
  },
  {
   "cell_type": "code",
   "execution_count": 11,
   "id": "4edc05e0",
   "metadata": {},
   "outputs": [
    {
     "name": "stdout",
     "output_type": "stream",
     "text": [
      "0\n",
      "1\n",
      "2\n",
      "3\n"
     ]
    }
   ],
   "source": [
    "for i in range(4): # Range dlm python di mulai dari angka 0\n",
    "    print(i)"
   ]
  },
  {
   "cell_type": "code",
   "execution_count": 12,
   "id": "5d91d862",
   "metadata": {},
   "outputs": [
    {
     "name": "stdout",
     "output_type": "stream",
     "text": [
      "4\n",
      "5\n",
      "6\n"
     ]
    }
   ],
   "source": [
    "for i in range(4,7): # Jika ingin mengambil nilai tertentu menggunakan format ini\n",
    "    print(i)"
   ]
  },
  {
   "cell_type": "code",
   "execution_count": 13,
   "id": "2c628677",
   "metadata": {},
   "outputs": [
    {
     "name": "stdout",
     "output_type": "stream",
     "text": [
      "0\n",
      "1\n",
      "2\n",
      "3\n",
      "4\n"
     ]
    }
   ],
   "source": [
    "# Task 3\n",
    "# Menggunakan range dengan satu parameter (mulai dari 0, hingga sebelum 5)\n",
    "for i in range(5):\n",
    "    print(i)\n"
   ]
  },
  {
   "cell_type": "code",
   "execution_count": 14,
   "id": "310d1319",
   "metadata": {},
   "outputs": [
    {
     "name": "stdout",
     "output_type": "stream",
     "text": [
      "2\n",
      "3\n",
      "4\n",
      "5\n",
      "6\n",
      "7\n"
     ]
    }
   ],
   "source": [
    "# Menggunakan range dengan dua parameter (mulai dari 2, hingga sebelum 8)\n",
    "for j in range(2, 8):\n",
    "    print(j)\n"
   ]
  },
  {
   "cell_type": "code",
   "execution_count": 21,
   "id": "9191ef36",
   "metadata": {},
   "outputs": [
    {
     "name": "stdout",
     "output_type": "stream",
     "text": [
      "- - - \n",
      "  - \n",
      "- - end \n"
     ]
    }
   ],
   "source": [
    "# For bertingkat\n",
    "\n",
    "for row in range(3):\n",
    "    for col in range(3):\n",
    "        if row == 2 and col == 2:\n",
    "            print(\"end\", end=\" \")\n",
    "        elif row == 1 and col <= 1:\n",
    "            print(\"\", end=\" \")\n",
    "        else:\n",
    "            print(\"-\", end=\" \")\n",
    "    print()\n",
    "\n",
    "\n"
   ]
  },
  {
   "cell_type": "code",
   "execution_count": 22,
   "id": "9b97f373",
   "metadata": {},
   "outputs": [
    {
     "name": "stdout",
     "output_type": "stream",
     "text": [
      "* * * * \n",
      "  * * * \n",
      "    * * \n",
      "      * \n"
     ]
    }
   ],
   "source": [
    "# Task ke 4\n",
    "\n",
    "for row in range(4):\n",
    "    for col in range(4):\n",
    "        if row <= col:\n",
    "            print(\"*\", end=\" \")\n",
    "        else:\n",
    "            print(\" \", end=\" \")\n",
    "    print()\n"
   ]
  },
  {
   "cell_type": "code",
   "execution_count": 23,
   "id": "aba978f3",
   "metadata": {},
   "outputs": [
    {
     "name": "stdout",
     "output_type": "stream",
     "text": [
      "* * * * \n",
      "* * * \n",
      "* * \n",
      "* \n"
     ]
    }
   ],
   "source": [
    "for row in range(4):\n",
    "    for col in range(4):\n",
    "        if row == 0 and col <= 3:\n",
    "            print(\"*\", end = \" \")\n",
    "        elif row == 1 and col <= 2:\n",
    "            print(\"*\", end = \" \")\n",
    "        elif row == 2 and col <= 1:\n",
    "            print(\"*\", end = \" \")\n",
    "        elif row == 3 and col <= 0:\n",
    "            print(\"*\", end = \" \")\n",
    "    print()"
   ]
  },
  {
   "cell_type": "code",
   "execution_count": null,
   "id": "f2568f4c",
   "metadata": {},
   "outputs": [],
   "source": []
  }
 ],
 "metadata": {
  "kernelspec": {
   "display_name": "Python 3 (ipykernel)",
   "language": "python",
   "name": "python3"
  },
  "language_info": {
   "codemirror_mode": {
    "name": "ipython",
    "version": 3
   },
   "file_extension": ".py",
   "mimetype": "text/x-python",
   "name": "python",
   "nbconvert_exporter": "python",
   "pygments_lexer": "ipython3",
   "version": "3.11.4"
  }
 },
 "nbformat": 4,
 "nbformat_minor": 5
}
