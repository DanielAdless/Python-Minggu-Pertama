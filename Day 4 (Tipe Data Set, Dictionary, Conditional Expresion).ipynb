{
 "cells": [
  {
   "cell_type": "code",
   "execution_count": null,
   "id": "4a8eb4df",
   "metadata": {},
   "outputs": [],
   "source": [
    "# 21-09-2023\n",
    "# Tipe Data  Set > adalah tipe data yang digunakan untuk menyimpan sekumpulan nilai unik tanpa urutan tertentu"
   ]
  },
  {
   "cell_type": "code",
   "execution_count": 10,
   "id": "e6df338f",
   "metadata": {},
   "outputs": [],
   "source": [
    "a = {1, 2, 3, 4,4,5,5,6,7} # Set adalah himpunan\n",
    "\n"
   ]
  },
  {
   "cell_type": "code",
   "execution_count": 14,
   "id": "fd543ef3",
   "metadata": {},
   "outputs": [
    {
     "name": "stdout",
     "output_type": "stream",
     "text": [
      "{1, 2, 3, 4, 5, 6, 7}\n"
     ]
    }
   ],
   "source": [
    "print(a) # Hanya mengambil yang unik saja"
   ]
  },
  {
   "cell_type": "code",
   "execution_count": 16,
   "id": "32599e8e",
   "metadata": {},
   "outputs": [
    {
     "name": "stdout",
     "output_type": "stream",
     "text": [
      "{1, 2, 3, 4, 5, 6, 7}\n",
      "{1, 2, 3, 4, 5, 6, 7}\n",
      "{1, 2, 3, 4, 5, 6, 7}\n",
      "{1, 2, 3, 4, 5, 6, 7}\n",
      "{1, 2, 3, 4, 5, 6, 7}\n",
      "{1, 2, 3, 4, 5, 6, 7}\n",
      "{1, 2, 3, 4, 5, 6, 7}\n"
     ]
    }
   ],
   "source": [
    "for item in a: #  untuk mengambil setiap elemen satu per satu.\n",
    "    print(a)"
   ]
  },
  {
   "cell_type": "code",
   "execution_count": 1,
   "id": "96fe2882",
   "metadata": {},
   "outputs": [],
   "source": [
    "buah = {'apel', 'mangga', 'pisang'}\n",
    "buah.add('jeruk')\n"
   ]
  },
  {
   "cell_type": "code",
   "execution_count": 2,
   "id": "a9280fcd",
   "metadata": {},
   "outputs": [
    {
     "name": "stdout",
     "output_type": "stream",
     "text": [
      "{'apel', 'pisang', 'jeruk', 'mangga'}\n"
     ]
    }
   ],
   "source": [
    "print(buah)\n"
   ]
  },
  {
   "cell_type": "code",
   "execution_count": null,
   "id": "bcdc4978",
   "metadata": {},
   "outputs": [],
   "source": []
  },
  {
   "cell_type": "code",
   "execution_count": 17,
   "id": "e3656df5",
   "metadata": {},
   "outputs": [],
   "source": [
    "a ={1,2,3}"
   ]
  },
  {
   "cell_type": "code",
   "execution_count": 18,
   "id": "7875d225",
   "metadata": {},
   "outputs": [
    {
     "name": "stdout",
     "output_type": "stream",
     "text": [
      "{1, 2, 3}\n"
     ]
    }
   ],
   "source": [
    "print(a)"
   ]
  },
  {
   "cell_type": "code",
   "execution_count": 19,
   "id": "a0911d58",
   "metadata": {},
   "outputs": [],
   "source": [
    "b = {2,3,4,5,6}"
   ]
  },
  {
   "cell_type": "code",
   "execution_count": 20,
   "id": "cd726ba2",
   "metadata": {},
   "outputs": [
    {
     "name": "stdout",
     "output_type": "stream",
     "text": [
      "{2, 3, 4, 5, 6}\n"
     ]
    }
   ],
   "source": [
    "print(b)"
   ]
  },
  {
   "cell_type": "code",
   "execution_count": 21,
   "id": "3fff75a7",
   "metadata": {},
   "outputs": [
    {
     "data": {
      "text/plain": [
       "{1, 2, 3, 4, 5, 6}"
      ]
     },
     "execution_count": 21,
     "metadata": {},
     "output_type": "execute_result"
    }
   ],
   "source": [
    "a.union(b) # Untuk menggabungkan dua set menjadi satu set yang berisi semua elemen "
   ]
  },
  {
   "cell_type": "code",
   "execution_count": 22,
   "id": "45032a93",
   "metadata": {},
   "outputs": [
    {
     "data": {
      "text/plain": [
       "{2, 3}"
      ]
     },
     "execution_count": 22,
     "metadata": {},
     "output_type": "execute_result"
    }
   ],
   "source": [
    "a.intersection(b) # Untuk menghasilkan set yang berisi semua elemen yang ada dalam kedua set {hanya irisannya saja}"
   ]
  },
  {
   "cell_type": "code",
   "execution_count": 23,
   "id": "4a055e89",
   "metadata": {},
   "outputs": [],
   "source": [
    "b = {1,2,3,4,5} # Task 1"
   ]
  },
  {
   "cell_type": "code",
   "execution_count": 24,
   "id": "cfa4af6e",
   "metadata": {},
   "outputs": [
    {
     "name": "stdout",
     "output_type": "stream",
     "text": [
      "{1, 2, 3, 4, 5}\n"
     ]
    }
   ],
   "source": [
    "print(b)"
   ]
  },
  {
   "cell_type": "code",
   "execution_count": 27,
   "id": "8ceb5232",
   "metadata": {},
   "outputs": [],
   "source": [
    "c = {1,2,\"budi\",\"wahyu\",\"ahmad\"}"
   ]
  },
  {
   "cell_type": "code",
   "execution_count": 28,
   "id": "e188a654",
   "metadata": {},
   "outputs": [
    {
     "name": "stdout",
     "output_type": "stream",
     "text": [
      "{'budi', 1, 2, 'wahyu', 'ahmad'}\n"
     ]
    }
   ],
   "source": [
    "print(c)"
   ]
  },
  {
   "cell_type": "code",
   "execution_count": 29,
   "id": "56c77b22",
   "metadata": {},
   "outputs": [
    {
     "data": {
      "text/plain": [
       "{1, 2, 3, 4, 5, 'ahmad', 'budi', 'wahyu'}"
      ]
     },
     "execution_count": 29,
     "metadata": {},
     "output_type": "execute_result"
    }
   ],
   "source": [
    "b.union(c)"
   ]
  },
  {
   "cell_type": "code",
   "execution_count": 30,
   "id": "2e758bdd",
   "metadata": {},
   "outputs": [
    {
     "data": {
      "text/plain": [
       "{1, 2}"
      ]
     },
     "execution_count": 30,
     "metadata": {},
     "output_type": "execute_result"
    }
   ],
   "source": [
    "b.intersection(c)"
   ]
  },
  {
   "cell_type": "code",
   "execution_count": null,
   "id": "1631d959",
   "metadata": {},
   "outputs": [],
   "source": [
    "# Dictionary Kamus adalah tipe data yang digunakan untuk menyimpan data dalam bentuk pasangan kunci (key) dan nilai (value)"
   ]
  },
  {
   "cell_type": "code",
   "execution_count": 36,
   "id": "eb929d1d",
   "metadata": {},
   "outputs": [],
   "source": [
    "a = {\"Nama\" :\"Daniel Adless\", \"usia\" : 20}"
   ]
  },
  {
   "cell_type": "code",
   "execution_count": 37,
   "id": "2431142d",
   "metadata": {},
   "outputs": [
    {
     "data": {
      "text/plain": [
       "dict"
      ]
     },
     "execution_count": 37,
     "metadata": {},
     "output_type": "execute_result"
    }
   ],
   "source": [
    "type(a)"
   ]
  },
  {
   "cell_type": "code",
   "execution_count": 38,
   "id": "0f6240e7",
   "metadata": {},
   "outputs": [
    {
     "data": {
      "text/plain": [
       "'Daniel Adless'"
      ]
     },
     "execution_count": 38,
     "metadata": {},
     "output_type": "execute_result"
    }
   ],
   "source": [
    "a[\"Nama\"] # hanya dapat di panggil (Key) tidak dengan (value)"
   ]
  },
  {
   "cell_type": "code",
   "execution_count": 39,
   "id": "9d005512",
   "metadata": {},
   "outputs": [
    {
     "data": {
      "text/plain": [
       "20"
      ]
     },
     "execution_count": 39,
     "metadata": {},
     "output_type": "execute_result"
    }
   ],
   "source": [
    "a[\"usia\"]"
   ]
  },
  {
   "cell_type": "code",
   "execution_count": null,
   "id": "6f8795e2",
   "metadata": {},
   "outputs": [],
   "source": [
    "# Task 2"
   ]
  },
  {
   "cell_type": "code",
   "execution_count": 3,
   "id": "e4d5c2da",
   "metadata": {},
   "outputs": [],
   "source": [
    "a = kelompok_2 = {\n",
    "    \"nama_kelompok\": \"Data Analyst\",\n",
    "    \"anggota\": {\n",
    "        \"anggota1\": \"Daniel\",\n",
    "        \"anggota2\": \"Fitri\",\n",
    "        \"anggota3\": \"Aulia\",\n",
    "        \"anggota4\": \"Salsa\",  \n",
    "        \"anggota5\": \"Arum\"\n",
    "    },\n",
    "    \"pathway\": \"Data Analytics\"\n",
    "}"
   ]
  },
  {
   "cell_type": "code",
   "execution_count": 4,
   "id": "d8e1df6e",
   "metadata": {},
   "outputs": [
    {
     "data": {
      "text/plain": [
       "dict"
      ]
     },
     "execution_count": 4,
     "metadata": {},
     "output_type": "execute_result"
    }
   ],
   "source": [
    "type(a)"
   ]
  },
  {
   "cell_type": "code",
   "execution_count": 9,
   "id": "0f9c3989",
   "metadata": {},
   "outputs": [
    {
     "name": "stdout",
     "output_type": "stream",
     "text": [
      "Daniel\n"
     ]
    }
   ],
   "source": [
    "anggota_pertama = a[\"anggota\"][\"anggota1\"]\n",
    "print(anggota_pertama) "
   ]
  },
  {
   "cell_type": "code",
   "execution_count": null,
   "id": "f56d2488",
   "metadata": {},
   "outputs": [],
   "source": [
    "# if"
   ]
  },
  {
   "cell_type": "code",
   "execution_count": 10,
   "id": "4d1e404f",
   "metadata": {},
   "outputs": [],
   "source": [
    "namaku = \"Ko yu Rim\""
   ]
  },
  {
   "cell_type": "code",
   "execution_count": 12,
   "id": "a866092c",
   "metadata": {},
   "outputs": [
    {
     "name": "stdout",
     "output_type": "stream",
     "text": [
      "Benar namaku Ko yu Rim\n"
     ]
    }
   ],
   "source": [
    "if namaku:\n",
    "    print(\"Benar namaku {}\".format(namaku))"
   ]
  },
  {
   "cell_type": "code",
   "execution_count": null,
   "id": "9ef4de60",
   "metadata": {},
   "outputs": [],
   "source": [
    "namaku = \"Ko yu Rim\""
   ]
  },
  {
   "cell_type": "code",
   "execution_count": 13,
   "id": "5312b21b",
   "metadata": {},
   "outputs": [
    {
     "name": "stdout",
     "output_type": "stream",
     "text": [
      "Nama saya adalah Ko yu Rim\n"
     ]
    }
   ],
   "source": [
    "if namaku:\n",
    "    print(\"Nama saya adalah {}\".format(namaku))"
   ]
  },
  {
   "cell_type": "code",
   "execution_count": 15,
   "id": "084bb3ac",
   "metadata": {},
   "outputs": [],
   "source": [
    "usiaku = \"24\""
   ]
  },
  {
   "cell_type": "code",
   "execution_count": 17,
   "id": "6f253352",
   "metadata": {},
   "outputs": [
    {
     "name": "stdout",
     "output_type": "stream",
     "text": [
      "Umur saya adalah 24\n"
     ]
    }
   ],
   "source": [
    "if usiaku:\n",
    "    print(\"Umur saya adalah {}\".format(usiaku))"
   ]
  },
  {
   "cell_type": "code",
   "execution_count": null,
   "id": "d5c575cf",
   "metadata": {},
   "outputs": [],
   "source": [
    "# Task 3"
   ]
  },
  {
   "cell_type": "code",
   "execution_count": 22,
   "id": "5116a9b0",
   "metadata": {},
   "outputs": [],
   "source": [
    "cuaca_cerah = True"
   ]
  },
  {
   "cell_type": "code",
   "execution_count": 23,
   "id": "f3b62048",
   "metadata": {},
   "outputs": [
    {
     "name": "stdout",
     "output_type": "stream",
     "text": [
      "Saya akan pergi liburan\n"
     ]
    }
   ],
   "source": [
    "if cuaca_cerah:\n",
    "    print(\"Saya akan pergi liburan\")"
   ]
  },
  {
   "cell_type": "code",
   "execution_count": 24,
   "id": "c3b15f47",
   "metadata": {},
   "outputs": [],
   "source": [
    "cuaca_mendung = True"
   ]
  },
  {
   "cell_type": "code",
   "execution_count": 25,
   "id": "16797199",
   "metadata": {},
   "outputs": [
    {
     "name": "stdout",
     "output_type": "stream",
     "text": [
      "Saya batal pergi liburan\n"
     ]
    }
   ],
   "source": [
    "if cuaca_mendung:\n",
    "    print(\"Saya batal pergi liburan\")"
   ]
  },
  {
   "cell_type": "code",
   "execution_count": null,
   "id": "1cfd2fcf",
   "metadata": {},
   "outputs": [],
   "source": [
    "# Else"
   ]
  },
  {
   "cell_type": "code",
   "execution_count": null,
   "id": "6e36c244",
   "metadata": {},
   "outputs": [],
   "source": [
    "usia = int(input(\"usia anda: \"))"
   ]
  },
  {
   "cell_type": "code",
   "execution_count": null,
   "id": "689856d7",
   "metadata": {},
   "outputs": [],
   "source": [
    "int(input())"
   ]
  },
  {
   "cell_type": "code",
   "execution_count": null,
   "id": "9520319c",
   "metadata": {},
   "outputs": [],
   "source": [
    "usia = int(input(\"16: \"))\n",
    "\n",
    "if usia >= 17:\n",
    "    print('Sudah punya KTP')\n",
    "else:\n",
    "    print('Belum punya KTP')\n"
   ]
  },
  {
   "cell_type": "code",
   "execution_count": null,
   "id": "409eaa36",
   "metadata": {},
   "outputs": [],
   "source": [
    "# Task 4"
   ]
  },
  {
   "cell_type": "code",
   "execution_count": null,
   "id": "9cb0a5bd",
   "metadata": {},
   "outputs": [],
   "source": [
    "keterangan = input(\"apakah anda sedang menerima beasiswa saat ini? (ya/tidak\")\")\n",
    "\n",
    "if keterangan == \"YA\":\n",
    "    print('Anda tidak dapat mengajukan beasiswa lagi.')\n",
    "else :\n",
    "    print('anda dapat mengajukan beasiswa.')\n",
    "    "
   ]
  },
  {
   "cell_type": "code",
   "execution_count": 9,
   "id": "9cf97e68",
   "metadata": {},
   "outputs": [
    {
     "name": "stdout",
     "output_type": "stream",
     "text": [
      "Hasil: Anda sudah dewasa\n"
     ]
    }
   ],
   "source": [
    "usia = 18\n",
    "\n",
    "if usia >= 18:\n",
    "    hasil = \"Anda sudah dewasa\"\n",
    "else:\n",
    "    hasil = \"Anda masih di bawah umur\"\n",
    "\n",
    "print(\"Hasil: \" + hasil)\n",
    "\n",
    "\n",
    "\n",
    "\n"
   ]
  },
  {
   "cell_type": "code",
   "execution_count": null,
   "id": "f52ba43d",
   "metadata": {},
   "outputs": [],
   "source": []
  },
  {
   "cell_type": "code",
   "execution_count": null,
   "id": "dfa4c619",
   "metadata": {},
   "outputs": [],
   "source": []
  }
 ],
 "metadata": {
  "kernelspec": {
   "display_name": "Python 3 (ipykernel)",
   "language": "python",
   "name": "python3"
  },
  "language_info": {
   "codemirror_mode": {
    "name": "ipython",
    "version": 3
   },
   "file_extension": ".py",
   "mimetype": "text/x-python",
   "name": "python",
   "nbconvert_exporter": "python",
   "pygments_lexer": "ipython3",
   "version": "3.11.4"
  }
 },
 "nbformat": 4,
 "nbformat_minor": 5
}
